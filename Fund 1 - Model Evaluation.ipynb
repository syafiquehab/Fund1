{
 "cells": [
  {
   "cell_type": "code",
   "execution_count": 14,
   "metadata": {
    "collapsed": true
   },
   "outputs": [],
   "source": [
    "%matplotlib inline\n",
    "\n",
    "import pandas as pd\n",
    "import matplotlib.pyplot as plt\n",
    "import sklearn.linear_model as linear\n",
    "import sklearn.cross_validation as cross"
   ]
  },
  {
   "cell_type": "code",
   "execution_count": 15,
   "metadata": {
    "collapsed": true
   },
   "outputs": [],
   "source": [
    "fund1 = pd.read_csv('fund1.csv', thousands=',')"
   ]
  },
  {
   "cell_type": "markdown",
   "metadata": {},
   "source": [
    "# Model Evaluation on FBMKLCI to predict next month fund1 sales"
   ]
  },
  {
   "cell_type": "code",
   "execution_count": 3,
   "metadata": {
    "collapsed": false
   },
   "outputs": [],
   "source": [
    "X_klci = fund1.FBMKLCI.drop(fund1.index[[292]]).reshape(-1,1)\n",
    "y_lagsales = fund1.Sales.shift(-1).drop(fund1.index[[292]])"
   ]
  },
  {
   "cell_type": "code",
   "execution_count": 4,
   "metadata": {
    "collapsed": true
   },
   "outputs": [],
   "source": [
    "lagsales_split = cross.train_test_split(X_klci,y_lagsales)"
   ]
  },
  {
   "cell_type": "code",
   "execution_count": 5,
   "metadata": {
    "collapsed": true
   },
   "outputs": [],
   "source": [
    "lagsales_model = linear.LinearRegression(normalize=True)"
   ]
  },
  {
   "cell_type": "code",
   "execution_count": 6,
   "metadata": {
    "collapsed": false
   },
   "outputs": [],
   "source": [
    "(X_klci_train, X_klci_test, y_lagsales_train, y_lagsales_test) = lagsales_split\n",
    "lagsales_model.fit(X_klci_train, y_lagsales_train)\n",
    "y_lagsales_predict = lagsales_model.predict(X_klci_test)"
   ]
  },
  {
   "cell_type": "code",
   "execution_count": 7,
   "metadata": {
    "collapsed": false,
    "scrolled": true
   },
   "outputs": [
    {
     "name": "stdout",
     "output_type": "stream",
     "text": [
      "0.71126081021\n",
      "2.76366932698e+17\n"
     ]
    }
   ],
   "source": [
    "import sklearn.metrics as metrics\n",
    "print metrics.r2_score(y_lagsales_test, y_lagsales_predict)\n",
    "print metrics.mean_squared_error(y_lagsales_test, y_lagsales_predict)"
   ]
  },
  {
   "cell_type": "code",
   "execution_count": 8,
   "metadata": {
    "collapsed": false
   },
   "outputs": [
    {
     "data": {
      "text/plain": [
       "-3.9603314912370955"
      ]
     },
     "execution_count": 8,
     "metadata": {},
     "output_type": "execute_result"
    }
   ],
   "source": [
    "cross.cross_val_score(lagsales_model, X_klci, y_lagsales, cv=10, scoring = 'r2').mean()"
   ]
  },
  {
   "cell_type": "code",
   "execution_count": 9,
   "metadata": {
    "collapsed": false
   },
   "outputs": [
    {
     "data": {
      "text/plain": [
       "-2.8402236614125558e+17"
      ]
     },
     "execution_count": 9,
     "metadata": {},
     "output_type": "execute_result"
    }
   ],
   "source": [
    "cross.cross_val_score(lagsales_model, X_klci, y_lagsales, cv=10, scoring = 'mean_squared_error').mean()"
   ]
  },
  {
   "cell_type": "markdown",
   "metadata": {},
   "source": [
    "# Model Evalution of next month redemption based on current FBMKLCI and sales"
   ]
  },
  {
   "cell_type": "code",
   "execution_count": 16,
   "metadata": {
    "collapsed": false
   },
   "outputs": [],
   "source": [
    "#lagsales = fund1.Sales.shift(-1).drop(fund1.index[[292]]).reshape(-1,1)\n",
    "#s = [x[0] for x in lagsales]\n",
    "#k = [x[0] for x in X_klci]\n",
    "#X = pd.DataFrame({'Sales' : s, 'FBMKLCI' : k})\n",
    "X = fund1.loc[:,['FBMKLCI', 'Sales']].drop(fund1.index[[292]])\n",
    "y_red = fund1.Redemption.shift(-1).drop(fund1.index[[292]]).abs()"
   ]
  },
  {
   "cell_type": "code",
   "execution_count": 17,
   "metadata": {
    "collapsed": false
   },
   "outputs": [
    {
     "name": "stdout",
     "output_type": "stream",
     "text": [
      "0.23982367536\n",
      "6.12649135848e+17\n"
     ]
    }
   ],
   "source": [
    "lagred_split = cross.train_test_split(X,y_red)\n",
    "lagred_model = linear.LinearRegression(normalize=True)\n",
    "(X_train, X_test, y_red_train, y_red_test) = lagred_split\n",
    "lagred_model.fit(X_train, y_red_train)\n",
    "y_red_predict = lagred_model.predict(X_test)\n",
    "print metrics.r2_score(y_red_test, y_red_predict)\n",
    "print metrics.mean_squared_error(y_red_test, y_red_predict)"
   ]
  },
  {
   "cell_type": "code",
   "execution_count": 18,
   "metadata": {
    "collapsed": false
   },
   "outputs": [
    {
     "data": {
      "text/plain": [
       "-1.7969300714719805"
      ]
     },
     "execution_count": 18,
     "metadata": {},
     "output_type": "execute_result"
    }
   ],
   "source": [
    "cross.cross_val_score(lagred_model, X, y_red, cv=20, scoring = 'r2').mean()"
   ]
  },
  {
   "cell_type": "code",
   "execution_count": 19,
   "metadata": {
    "collapsed": false
   },
   "outputs": [
    {
     "data": {
      "text/plain": [
       "-6.6459782280060723e+17"
      ]
     },
     "execution_count": 19,
     "metadata": {},
     "output_type": "execute_result"
    }
   ],
   "source": [
    "cross.cross_val_score(lagred_model, X, y_red, cv=10, scoring = 'mean_squared_error').mean()"
   ]
  },
  {
   "cell_type": "code",
   "execution_count": null,
   "metadata": {
    "collapsed": true
   },
   "outputs": [],
   "source": []
  },
  {
   "cell_type": "code",
   "execution_count": null,
   "metadata": {
    "collapsed": true
   },
   "outputs": [],
   "source": []
  },
  {
   "cell_type": "code",
   "execution_count": null,
   "metadata": {
    "collapsed": true
   },
   "outputs": [],
   "source": []
  },
  {
   "cell_type": "code",
   "execution_count": null,
   "metadata": {
    "collapsed": true
   },
   "outputs": [],
   "source": []
  },
  {
   "cell_type": "code",
   "execution_count": null,
   "metadata": {
    "collapsed": true
   },
   "outputs": [],
   "source": []
  }
 ],
 "metadata": {
  "kernelspec": {
   "display_name": "Python 2",
   "language": "python",
   "name": "python2"
  },
  "language_info": {
   "codemirror_mode": {
    "name": "ipython",
    "version": 2
   },
   "file_extension": ".py",
   "mimetype": "text/x-python",
   "name": "python",
   "nbconvert_exporter": "python",
   "pygments_lexer": "ipython2",
   "version": "2.7.11"
  }
 },
 "nbformat": 4,
 "nbformat_minor": 0
}
