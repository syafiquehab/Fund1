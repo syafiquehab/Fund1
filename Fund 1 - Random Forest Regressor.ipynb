{
 "cells": [
  {
   "cell_type": "code",
   "execution_count": 2,
   "metadata": {
    "collapsed": false
   },
   "outputs": [],
   "source": [
    "import pandas as pd\n",
    "import sklearn.ensemble as ensemble\n",
    "import sklearn.grid_search as grid"
   ]
  },
  {
   "cell_type": "code",
   "execution_count": 3,
   "metadata": {
    "collapsed": false
   },
   "outputs": [
    {
     "data": {
      "text/html": [
       "<div>\n",
       "<table border=\"1\" class=\"dataframe\">\n",
       "  <thead>\n",
       "    <tr style=\"text-align: right;\">\n",
       "      <th></th>\n",
       "      <th>Sales</th>\n",
       "      <th>Redemption</th>\n",
       "      <th>Net</th>\n",
       "      <th>Income Distributed</th>\n",
       "      <th>Fund Size</th>\n",
       "      <th>Dividend</th>\n",
       "      <th>FBMKLCI</th>\n",
       "    </tr>\n",
       "    <tr>\n",
       "      <th>Month_Year</th>\n",
       "      <th></th>\n",
       "      <th></th>\n",
       "      <th></th>\n",
       "      <th></th>\n",
       "      <th></th>\n",
       "      <th></th>\n",
       "      <th></th>\n",
       "    </tr>\n",
       "  </thead>\n",
       "  <tbody>\n",
       "    <tr>\n",
       "      <th>1992-01-01</th>\n",
       "      <td>3.755638e+08</td>\n",
       "      <td>5.403470e+08</td>\n",
       "      <td>1.647832e+08</td>\n",
       "      <td>1.035420e+09</td>\n",
       "      <td>1.031930e+10</td>\n",
       "      <td>12.5</td>\n",
       "      <td>570.64</td>\n",
       "    </tr>\n",
       "    <tr>\n",
       "      <th>1992-02-01</th>\n",
       "      <td>4.194861e+08</td>\n",
       "      <td>3.846571e+08</td>\n",
       "      <td>3.482893e+07</td>\n",
       "      <td>NaN</td>\n",
       "      <td>1.035413e+10</td>\n",
       "      <td>NaN</td>\n",
       "      <td>605.06</td>\n",
       "    </tr>\n",
       "    <tr>\n",
       "      <th>1992-03-01</th>\n",
       "      <td>3.804028e+08</td>\n",
       "      <td>5.538938e+08</td>\n",
       "      <td>1.734910e+08</td>\n",
       "      <td>NaN</td>\n",
       "      <td>1.018064e+10</td>\n",
       "      <td>NaN</td>\n",
       "      <td>593.21</td>\n",
       "    </tr>\n",
       "    <tr>\n",
       "      <th>1992-04-01</th>\n",
       "      <td>3.179610e+08</td>\n",
       "      <td>2.151399e+08</td>\n",
       "      <td>1.028211e+08</td>\n",
       "      <td>NaN</td>\n",
       "      <td>1.028346e+10</td>\n",
       "      <td>NaN</td>\n",
       "      <td>591.63</td>\n",
       "    </tr>\n",
       "    <tr>\n",
       "      <th>1992-05-01</th>\n",
       "      <td>4.158162e+08</td>\n",
       "      <td>2.657969e+08</td>\n",
       "      <td>1.500193e+08</td>\n",
       "      <td>NaN</td>\n",
       "      <td>1.043348e+10</td>\n",
       "      <td>NaN</td>\n",
       "      <td>589.09</td>\n",
       "    </tr>\n",
       "  </tbody>\n",
       "</table>\n",
       "</div>"
      ],
      "text/plain": [
       "                   Sales    Redemption           Net  Income Distributed  \\\n",
       "Month_Year                                                                 \n",
       "1992-01-01  3.755638e+08  5.403470e+08  1.647832e+08        1.035420e+09   \n",
       "1992-02-01  4.194861e+08  3.846571e+08  3.482893e+07                 NaN   \n",
       "1992-03-01  3.804028e+08  5.538938e+08  1.734910e+08                 NaN   \n",
       "1992-04-01  3.179610e+08  2.151399e+08  1.028211e+08                 NaN   \n",
       "1992-05-01  4.158162e+08  2.657969e+08  1.500193e+08                 NaN   \n",
       "\n",
       "               Fund Size  Dividend  FBMKLCI  \n",
       "Month_Year                                   \n",
       "1992-01-01  1.031930e+10      12.5   570.64  \n",
       "1992-02-01  1.035413e+10       NaN   605.06  \n",
       "1992-03-01  1.018064e+10       NaN   593.21  \n",
       "1992-04-01  1.028346e+10       NaN   591.63  \n",
       "1992-05-01  1.043348e+10       NaN   589.09  "
      ]
     },
     "execution_count": 3,
     "metadata": {},
     "output_type": "execute_result"
    }
   ],
   "source": [
    "fund1 = pd.read_csv('Fund1.csv', parse_dates=[[0,1]], index_col='Month_Year', thousands=',').abs()\n",
    "fund1.head()"
   ]
  },
  {
   "cell_type": "code",
   "execution_count": 4,
   "metadata": {
    "collapsed": true
   },
   "outputs": [],
   "source": [
    "salesklci = fund1[['Sales', 'FBMKLCI']].drop(fund1.index[[292]])\n",
    "red = fund1.Redemption.shift(-1).drop(fund1.index[[292]])"
   ]
  },
  {
   "cell_type": "code",
   "execution_count": 5,
   "metadata": {
    "collapsed": true
   },
   "outputs": [],
   "source": [
    "red_model = ensemble.RandomForestRegressor(n_estimators=100)\n",
    "red_model.fit(salesklci, red)\n",
    "red_predict = red_model.predict(salesklci)"
   ]
  },
  {
   "cell_type": "code",
   "execution_count": 14,
   "metadata": {
    "collapsed": false
   },
   "outputs": [
    {
     "data": {
      "text/plain": [
       "0.93095877203491895"
      ]
     },
     "execution_count": 14,
     "metadata": {},
     "output_type": "execute_result"
    }
   ],
   "source": [
    "red_model.score(salesklci, red)"
   ]
  },
  {
   "cell_type": "code",
   "execution_count": 13,
   "metadata": {
    "collapsed": false
   },
   "outputs": [
    {
     "name": "stderr",
     "output_type": "stream",
     "text": [
      "S:\\Program Files\\Anaconda2\\lib\\site-packages\\sklearn\\utils\\validation.py:386: DeprecationWarning: Passing 1d arrays as data is deprecated in 0.17 and willraise ValueError in 0.19. Reshape your data either using X.reshape(-1, 1) if your data has a single feature or X.reshape(1, -1) if it contains a single sample.\n",
      "  DeprecationWarning)\n"
     ]
    },
    {
     "data": {
      "text/plain": [
       "array([  2.64300056e+09])"
      ]
     },
     "execution_count": 13,
     "metadata": {},
     "output_type": "execute_result"
    }
   ],
   "source": [
    "red_model.predict([30000000, 1500])"
   ]
  },
  {
   "cell_type": "code",
   "execution_count": 16,
   "metadata": {
    "collapsed": false
   },
   "outputs": [
    {
     "name": "stdout",
     "output_type": "stream",
     "text": [
      "{'max_depth': 2}\n",
      "-0.716297437153\n"
     ]
    }
   ],
   "source": [
    "red_force = grid.GridSearchCV(red_model, {'max_depth':range(1,10)}, scoring='r2')\n",
    "red_force.fit(salesklci, red)\n",
    "print red_force.best_params_\n",
    "print red_force.best_score_"
   ]
  },
  {
   "cell_type": "code",
   "execution_count": 17,
   "metadata": {
    "collapsed": false
   },
   "outputs": [
    {
     "data": {
      "text/plain": [
       "0.94619062228377271"
      ]
     },
     "execution_count": 17,
     "metadata": {},
     "output_type": "execute_result"
    }
   ],
   "source": [
    "klci = fund1[['FBMKLCI']].drop(fund1.index[[292]])\n",
    "sales = fund1.Sales.shift(-1).drop(fund1.index[[292]])\n",
    "sales_model = ensemble.RandomForestRegressor(n_estimators=100)\n",
    "sales_model.fit(klci, sales)\n",
    "sales_predict = sales_model.predict(klci)\n",
    "sales_model.score(klci, sales)"
   ]
  },
  {
   "cell_type": "code",
   "execution_count": 19,
   "metadata": {
    "collapsed": false
   },
   "outputs": [
    {
     "name": "stdout",
     "output_type": "stream",
     "text": [
      "{'max_depth': 4}\n",
      "-4.02982159258\n"
     ]
    }
   ],
   "source": [
    "sales_force = grid.GridSearchCV(sales_model, {'max_depth':range(1,10)}, scoring='r2')\n",
    "sales_force.fit(klci, sales)\n",
    "print sales_force.best_params_\n",
    "print sales_force.best_score_"
   ]
  },
  {
   "cell_type": "code",
   "execution_count": null,
   "metadata": {
    "collapsed": true
   },
   "outputs": [],
   "source": []
  }
 ],
 "metadata": {
  "kernelspec": {
   "display_name": "Python 2",
   "language": "python",
   "name": "python2"
  },
  "language_info": {
   "codemirror_mode": {
    "name": "ipython",
    "version": 2
   },
   "file_extension": ".py",
   "mimetype": "text/x-python",
   "name": "python",
   "nbconvert_exporter": "python",
   "pygments_lexer": "ipython2",
   "version": "2.7.11"
  }
 },
 "nbformat": 4,
 "nbformat_minor": 0
}
